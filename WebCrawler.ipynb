{
 "cells": [
  {
   "cell_type": "code",
   "execution_count": 1,
   "id": "4fa0cae1-831f-4afe-98e8-f0ac711e99ba",
   "metadata": {},
   "outputs": [
    {
     "name": "stdout",
     "output_type": "stream",
     "text": [
      "Requirement already satisfied: requests in d:\\pythonanaconda\\lib\\site-packages (2.31.0)\n",
      "Requirement already satisfied: beautifulsoup4 in d:\\pythonanaconda\\lib\\site-packages (4.12.2)\n",
      "Requirement already satisfied: charset-normalizer<4,>=2 in d:\\pythonanaconda\\lib\\site-packages (from requests) (2.0.4)\n",
      "Requirement already satisfied: idna<4,>=2.5 in d:\\pythonanaconda\\lib\\site-packages (from requests) (3.4)\n",
      "Requirement already satisfied: urllib3<3,>=1.21.1 in d:\\pythonanaconda\\lib\\site-packages (from requests) (2.0.7)\n",
      "Requirement already satisfied: certifi>=2017.4.17 in d:\\pythonanaconda\\lib\\site-packages (from requests) (2024.2.2)\n",
      "Requirement already satisfied: soupsieve>1.2 in d:\\pythonanaconda\\lib\\site-packages (from beautifulsoup4) (2.5)\n",
      "Note: you may need to restart the kernel to use updated packages.\n"
     ]
    }
   ],
   "source": [
    "pip install requests beautifulsoup4"
   ]
  },
  {
   "cell_type": "code",
   "execution_count": 2,
   "id": "259e9031-9616-483a-a2dd-a461a8d1a96a",
   "metadata": {},
   "outputs": [
    {
     "name": "stdout",
     "output_type": "stream",
     "text": [
      "Ranked Hyperlinks:\n",
      "1.http://pcas.poornima.org/: 2\n",
      "2.https://www.linkedin.com/school/poornima-group-of-colleges/jobs: 2\n",
      "3.https://www.tcsion.com/dotcom/TCSSMB/Login/login.html: 2\n",
      "4.https://ieeexplore.ieee.org/Xplore/home.jsp: 2\n",
      "5.https://www.poornima.org/public/uploads/PGCProspectus2024-25.pdf: 2\n",
      "6.https://api.whatsapp.com/send?text=Hi!+I+have+an+enquiry&phone=%20+91-9928666222: 2\n",
      "7.https://www.facebook.com/Poornima.College.Engineering: 2\n",
      "8.https://www.instagram.com/poornimacollege: 2\n",
      "9.https://www.linkedin.com/school/poornima-college-of-engineering-jaipur: 2\n",
      "10.https://twitter.com/poornimacollege: 2\n",
      "11.https://www.youtube.com/channel/UC2msVsvmUenma6MNv_KWCZw?view_as=subscriber: 2\n",
      "12.https://rtu.ac.in/index/view_menudata.php?page=RTU-Syllabus4: 1\n",
      "13.https://www.poornima.org/wp-content/uploads/2020/02/Smart-Prep-your-guide-for-examinationDo-and-Dont.pdf: 1\n",
      "14.https://www.linkedin.com/school/poornima-university/jobs/?viewAsMember=true: 1\n",
      "15.https://www.poornima.org/public/uploads/PCE%20Academic%20Calendar%20(Even%202023-24).pdf: 1\n",
      "16.https://blog.poornima.org: 1\n",
      "17.https://goo.gl/maps/VFyi5L9ts9qGJvtA6: 1\n",
      "18.https://adsgrip.com: 1\n",
      "19.https://poornima.org/online: 1\n",
      "20.https://admission.poornima.org: 1\n",
      "21.https://api.whatsapp.com/send?text=Hi!+I+have+an+enquiry&phone= +91-9928666222: 1\n"
     ]
    }
   ],
   "source": [
    "import requests\n",
    "from bs4 import BeautifulSoup\n",
    "from collections import Counter\n",
    "\n",
    "url = 'https://www.poornima.org/'\n",
    "\n",
    "response = requests.get(url)\n",
    "\n",
    "if response.status_code == 200:\n",
    "    html = response.text\n",
    "else:\n",
    "    print(\"Failed to retrieve the webpage\")\n",
    "    exit()\n",
    "    \n",
    "soup = BeautifulSoup(html, 'html.parser')\n",
    "links = [a['href'] for a in soup.find_all('a', href=True)]\n",
    "filtered_links = [link for link in links if link.startswith('http')]\n",
    "link_counts = Counter(filtered_links)\n",
    "ranked_links = sorted(link_counts.items(), key=lambda x: x[1], reverse=True)\n",
    "print(\"Ranked Hyperlinks:\")\n",
    "\n",
    "for i ,(link, count) in enumerate(ranked_links, start = 1):\n",
    "    print(f\"{i}.{link}: {count}\")"
   ]
  },
  {
   "cell_type": "code",
   "execution_count": null,
   "id": "56f9c1fd-84ba-416a-ac8f-30b7c2741860",
   "metadata": {},
   "outputs": [],
   "source": []
  }
 ],
 "metadata": {
  "kernelspec": {
   "display_name": "Python 3 (ipykernel)",
   "language": "python",
   "name": "python3"
  },
  "language_info": {
   "codemirror_mode": {
    "name": "ipython",
    "version": 3
   },
   "file_extension": ".py",
   "mimetype": "text/x-python",
   "name": "python",
   "nbconvert_exporter": "python",
   "pygments_lexer": "ipython3",
   "version": "3.11.7"
  }
 },
 "nbformat": 4,
 "nbformat_minor": 5
}
